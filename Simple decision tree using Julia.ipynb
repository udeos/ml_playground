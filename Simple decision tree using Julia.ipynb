{
 "cells": [
  {
   "cell_type": "code",
   "execution_count": 1,
   "metadata": {},
   "outputs": [],
   "source": [
    "using StatsBase\n",
    "using PyCall\n",
    "\n",
    "@pyimport sklearn.datasets as ds"
   ]
  },
  {
   "cell_type": "code",
   "execution_count": 11,
   "metadata": {},
   "outputs": [],
   "source": [
    "# workspace()\n",
    "\n",
    "abstract BTree\n",
    "\n",
    "type Node <: BTree\n",
    "    predicate::Tuple{Int64, Float64}\n",
    "    left::BTree\n",
    "    right::BTree\n",
    "end\n",
    "\n",
    "type Leaf <: BTree\n",
    "    proportion::Dict{Int64,Float64}\n",
    "end"
   ]
  },
  {
   "cell_type": "code",
   "execution_count": 4,
   "metadata": {},
   "outputs": [
    {
     "data": {
      "text/plain": [
       "make_prediction (generic function with 1 method)"
      ]
     },
     "execution_count": 4,
     "output_type": "execute_result",
     "metadata": {}
    }
   ],
   "source": [
    "find_entropy(objs) = 1.0 - sum(proportions(objs) .^ 2)\n",
    "\n",
    "function find_predicate(objs, labels)\n",
    "    min_entropy = find_entropy(labels)\n",
    "    predicate = (0, 0.)\n",
    "    n_labels = size(labels, 1)\n",
    "    for fid = 1:size(objs, 2)\n",
    "        objs_col = objs[:, fid]\n",
    "        for fval = unique(objs_col)\n",
    "            mask = objs_col .< fval\n",
    "            left, right = labels[mask], labels[!mask]\n",
    "            n_left, n_right = size(left, 1), size(right, 1)\n",
    "            if n_left == 0 || n_right == 0\n",
    "                continue\n",
    "            end\n",
    "            e_left = find_entropy(left) * n_left\n",
    "            e_right = find_entropy(right) * n_right\n",
    "            curr_entropy = (e_left + e_right) / n_labels\n",
    "            if curr_entropy < min_entropy\n",
    "                min_entropy = curr_entropy\n",
    "                predicate = fid, fval\n",
    "            end\n",
    "        end\n",
    "    end\n",
    "    predicate\n",
    "end\n",
    "\n",
    "function build_tree(objs, labels)\n",
    "    fid, fval = find_predicate(objs, labels)\n",
    "    if fid != 0\n",
    "        mask = objs[:, fid] .< fval\n",
    "        nmask = !mask\n",
    "        left = build_tree(objs[mask, :], labels[mask])\n",
    "        right = build_tree(objs[nmask, :], labels[nmask])\n",
    "        return Node((fid, fval), left, right)\n",
    "    else\n",
    "        return Leaf(proportionmap(labels))\n",
    "    end\n",
    "end\n",
    "\n",
    "find_leaf(tree::Leaf, obj) = tree.proportion\n",
    "\n",
    "function find_leaf(tree::Node, obj)\n",
    "    fid, fval = tree.predicate\n",
    "    if obj[fid] < fval\n",
    "        return find_leaf(tree.left, obj)\n",
    "    else\n",
    "        return find_leaf(tree.right, obj)\n",
    "    end\n",
    "end\n",
    "\n",
    "\n",
    "function make_prediction(tree::BTree, objs)\n",
    "    n_objs = size(objs, 1)\n",
    "    result = Array(Dict{Int64,Float64}, n_objs)\n",
    "    for i = 1:n_objs\n",
    "        result[i] = find_leaf(tree, objs[i, :])\n",
    "    end\n",
    "    result\n",
    "end"
   ]
  },
  {
   "cell_type": "code",
   "execution_count": 9,
   "metadata": {},
   "outputs": [
    {
     "data": {
      "text/plain": [
       "true"
      ]
     },
     "execution_count": 9,
     "output_type": "execute_result",
     "metadata": {}
    }
   ],
   "source": [
    "objs, labels = ds.make_classification(n_samples=500, n_features=10)\n",
    "\n",
    "tree = build_tree(objs, labels)\n",
    "make_prediction(tree, objs)\n",
    "true"
   ]
  }
 ],
 "metadata": {
  "kernelspec": {
   "display_name": "Julia 0.4.2",
   "language": "julia",
   "name": "julia-0.4"
  },
  "language_info": {
   "file_extension": ".jl",
   "mimetype": "application/julia",
   "name": "julia",
   "version": "0.4.2"
  }
 },
 "nbformat": 4,
 "nbformat_minor": 0
}