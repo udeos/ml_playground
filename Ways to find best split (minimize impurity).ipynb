{
 "cells": [
  {
   "cell_type": "code",
   "execution_count": 2,
   "metadata": {
    "collapsed": false
   },
   "outputs": [],
   "source": [
    "%matplotlib inline\n",
    "\n",
    "import numpy as np\n",
    "import matplotlib.pyplot as plt\n",
    "\n",
    "from sklearn import datasets\n",
    "from scipy import optimize"
   ]
  },
  {
   "cell_type": "code",
   "execution_count": 491,
   "metadata": {
    "collapsed": true
   },
   "outputs": [],
   "source": [
    "def find_entropy(Y):\n",
    "    counts = {}\n",
    "    for y in Y:\n",
    "        if y in counts:\n",
    "            counts[y] += 1\n",
    "        else:\n",
    "            counts[y] = 1\n",
    "    s = float(len(Y))\n",
    "    return 1 - sum([(i / s) ** 2 for i in counts.values()])"
   ]
  },
  {
   "cell_type": "code",
   "execution_count": 524,
   "metadata": {
    "collapsed": true
   },
   "outputs": [],
   "source": [
    "def find_predicate_by_bruteforce(X, Y):\n",
    "    min_entropy = find_entropy(Y)\n",
    "    if min_entropy == 0.:\n",
    "        return None\n",
    "    predicate = None\n",
    "    n_Y = len(Y)\n",
    "    for obj in X:\n",
    "        for f_id, f_val in enumerate(obj):\n",
    "            mask = X[:, f_id] <= f_val\n",
    "            y1, y2 = Y[mask], Y[~mask]\n",
    "            n_y1, n_y2 = len(y1), len(y2)\n",
    "            if n_y2 == 0 or n_y2 == 0:\n",
    "                continue\n",
    "            e1 = find_entropy(y1) * n_y1\n",
    "            e2 = find_entropy(y2) * n_y2\n",
    "            local_entropy = (e1 + e2) / n_Y\n",
    "            if local_entropy < min_entropy:\n",
    "                min_entropy = local_entropy\n",
    "                predicate = f_id, f_val\n",
    "    return predicate"
   ]
  },
  {
   "cell_type": "code",
   "execution_count": 515,
   "metadata": {
    "collapsed": true
   },
   "outputs": [],
   "source": [
    "def find_predicate_by_minimization(X, Y):\n",
    "\n",
    "    def best_split(f_val, X, Y):\n",
    "        mask = X <= f_val\n",
    "        y1, y2 = Y[mask], Y[~mask]\n",
    "        n_y1, n_y2 = len(y1), len(y2)\n",
    "        e1 = find_entropy(y1) * n_y1\n",
    "        e2 = find_entropy(y2) * n_y2\n",
    "        return (e1 + e2) / len(Y)\n",
    "\n",
    "    min_entropy = find_entropy(Y)\n",
    "    if min_entropy == 0.:\n",
    "        return None\n",
    "    predicate = None\n",
    "    for f_id in range(X.shape[1]):\n",
    "        X_f = X[:, f_id]\n",
    "        for x0 in np.linspace(X_f.min(), X_f.max(), 10):\n",
    "            res = optimize.fmin(best_split, x0, (X_f, Y), disp=False)\n",
    "            xopt = res[0]\n",
    "            fopt = best_split(xopt, X_f, Y)\n",
    "            if fopt < min_entropy:\n",
    "                min_entropy = fopt\n",
    "                predicate = f_id, xopt\n",
    "    return predicate"
   ]
  },
  {
   "cell_type": "code",
   "execution_count": 551,
   "metadata": {
    "collapsed": false,
    "scrolled": true
   },
   "outputs": [],
   "source": [
    "def find_predicate_by_optimal_compares(X, Y):\n",
    "    min_impurity = find_entropy(Y)\n",
    "    if min_impurity == 0.:\n",
    "        return None\n",
    "    Ynum = float(Y.shape[0])\n",
    "    fnum = X.shape[1]\n",
    "    predicate = None\n",
    "    uniques, counts = np.unique(Y, return_counts=True)\n",
    "    D = np.concatenate((X, Y.reshape(Y.shape[0], 1)), axis=1)\n",
    "    D = D.view(','.join(['f8'] * (fnum + 1)))\n",
    "    lname = 'f%s' % fnum\n",
    "    for fid in range(fnum):\n",
    "        left = dict.fromkeys(uniques, 0)\n",
    "        right = dict(zip(uniques, counts))\n",
    "        fname = 'f%s' % fid\n",
    "        last_label = None\n",
    "        for fval, label in np.sort(D[[fname, lname]], order=fname, axis=0).flatten():\n",
    "            left[label] += 1\n",
    "            right[label] -= 1\n",
    "            if last_label == label:\n",
    "                continue\n",
    "            last_label = label\n",
    "            left_values, right_values = left.values(), right.values()\n",
    "            left_num, right_num = float(sum(left_values)), float(sum(right_values))\n",
    "            if right_num == 0:\n",
    "                continue\n",
    "            left_impurity = 1 - sum([(i / left_num) ** 2 for i in left_values])\n",
    "            right_impurity = 1 - sum([(i / right_num) ** 2 for i in right_values])\n",
    "            current_impurity = (left_impurity * left_num + right_impurity * right_num) / Ynum\n",
    "            if current_impurity < min_impurity:\n",
    "                min_impurity = current_impurity\n",
    "                predicate = fid, fval\n",
    "    return predicate"
   ]
  },
  {
   "cell_type": "code",
   "execution_count": 822,
   "metadata": {
    "collapsed": false
   },
   "outputs": [],
   "source": [
    "def find_predicate_by_optimal_compares(D):\n",
    "    No = float(D.shape[0])\n",
    "    Nf = self_n_features\n",
    "    uniques, counts = np.unique(D['label'], return_counts=True)\n",
    "    min_impurity = 1 - sum([(i / No) ** 2 for i in counts])\n",
    "    if min_impurity == 0.:\n",
    "        return None\n",
    "    predicate = None\n",
    "    for fid in range(Nf):\n",
    "        left = dict.fromkeys(uniques, 0)\n",
    "        right = dict(zip(uniques, counts))\n",
    "        fname = 'f%s' % fid\n",
    "        Dp = np.sort(D[[fname, 'label']], order=fname, axis=0)\n",
    "        for label, objs in itertools.groupby(Dp.flatten(), lambda x: x[1]):\n",
    "            objs = list(objs)\n",
    "            left[label] += len(objs)\n",
    "            right[label] -= len(objs)\n",
    "            left_values, right_values = left.values(), right.values()\n",
    "            left_num, right_num = float(sum(left_values)), float(sum(right_values))\n",
    "            if right_num == 0:\n",
    "                continue\n",
    "            left_impurity = 1 - sum([(i / left_num) ** 2 for i in left_values])\n",
    "            right_impurity = 1 - sum([(i / right_num) ** 2 for i in right_values])\n",
    "            current_impurity = (left_impurity * left_num + right_impurity * right_num) / No\n",
    "            if current_impurity < min_impurity:\n",
    "                min_impurity = current_impurity\n",
    "                predicate = fid, objs.pop()[0]\n",
    "    return predicate"
   ]
  },
  {
   "cell_type": "code",
   "execution_count": 553,
   "metadata": {
    "collapsed": true
   },
   "outputs": [],
   "source": [
    "X, Y = datasets.make_classification(n_samples=1000, n_features=10)"
   ]
  },
  {
   "cell_type": "code",
   "execution_count": 530,
   "metadata": {
    "collapsed": false
   },
   "outputs": [
    {
     "name": "stdout",
     "output_type": "stream",
     "text": [
      "1 loops, best of 3: 2.69 s per loop\n"
     ]
    }
   ],
   "source": [
    "%timeit find_predicate_by_bruteforce(X, Y)"
   ]
  },
  {
   "cell_type": "code",
   "execution_count": 521,
   "metadata": {
    "collapsed": false
   },
   "outputs": [
    {
     "name": "stdout",
     "output_type": "stream",
     "text": [
      "1 loops, best of 3: 956 ms per loop\n"
     ]
    }
   ],
   "source": [
    "%timeit find_predicate_by_minimization(X, Y)"
   ]
  },
  {
   "cell_type": "code",
   "execution_count": 823,
   "metadata": {
    "collapsed": false
   },
   "outputs": [
    {
     "name": "stdout",
     "output_type": "stream",
     "text": [
      "10 loops, best of 3: 31.8 ms per loop\n"
     ]
    }
   ],
   "source": [
    "dt = [('f%s' % i, 'f8') for i in range(X.shape[1])]\n",
    "dt.append(('label', 'f8'))\n",
    "D = np.concatenate((X, Y.reshape(Y.shape[0], 1)), axis=1)\n",
    "D = D.view(dt)\n",
    "\n",
    "%timeit find_predicate_by_optimal_compares(D)"
   ]
  }
 ],
 "metadata": {
  "kernelspec": {
   "display_name": "Python 2",
   "language": "python",
   "name": "python2"
  },
  "language_info": {
   "codemirror_mode": {
    "name": "ipython",
    "version": 2
   },
   "file_extension": ".py",
   "mimetype": "text/x-python",
   "name": "python",
   "nbconvert_exporter": "python",
   "pygments_lexer": "ipython2",
   "version": "2.7.6"
  }
 },
 "nbformat": 4,
 "nbformat_minor": 0
}
